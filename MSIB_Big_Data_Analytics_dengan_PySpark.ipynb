{
  "nbformat": 4,
  "nbformat_minor": 0,
  "metadata": {
    "colab": {
      "provenance": [],
      "include_colab_link": true
    },
    "kernelspec": {
      "name": "python3",
      "display_name": "Python 3"
    },
    "language_info": {
      "name": "python"
    }
  },
  "cells": [
    {
      "cell_type": "markdown",
      "metadata": {
        "id": "view-in-github",
        "colab_type": "text"
      },
      "source": [
        "<a href=\"https://colab.research.google.com/github/caropeboka/mall-pyspark/blob/main/MSIB_Big_Data_Analytics_dengan_PySpark.ipynb\" target=\"_parent\"><img src=\"https://colab.research.google.com/assets/colab-badge.svg\" alt=\"Open In Colab\"/></a>"
      ]
    },
    {
      "cell_type": "markdown",
      "source": [
        "Hai semuanya, pada kesempatan ini kalian akan mengerjakan tugas akhir berupa praktikum analisis data menggunakan PySpark.\n",
        "\n",
        "Semangat Belajar dan Jangan menyerah :)"
      ],
      "metadata": {
        "id": "GePxdrQji13H"
      }
    },
    {
      "cell_type": "markdown",
      "source": [
        "Silahkan download data berikut\n",
        "https://drive.google.com/drive/folders/1NhEG9zRplX6QXnwhk9-QJxV1hmzpknGD?usp=sharing\n",
        "\n",
        "dan masukan ke dalam google drive anda "
      ],
      "metadata": {
        "id": "NDdkAXsloDIJ"
      }
    },
    {
      "cell_type": "markdown",
      "source": [
        "Muhammad Kevin Mahendra Caropeboka\n",
        "\n",
        "MSIB Bisa AI\n",
        "\n",
        "AI-Hacker"
      ],
      "metadata": {
        "id": "DnyW-6nwcoQv"
      }
    },
    {
      "cell_type": "markdown",
      "source": [
        "**1. Silahkan install PySpark**"
      ],
      "metadata": {
        "id": "Hwy6zvcnoPkX"
      }
    },
    {
      "cell_type": "code",
      "source": [
        "!pip install pyspark py4j"
      ],
      "metadata": {
        "id": "dPxja1Q8jY3l",
        "colab": {
          "base_uri": "https://localhost:8080/"
        },
        "outputId": "f24f24aa-6b3f-4505-d7a2-0ed3a2f59971"
      },
      "execution_count": null,
      "outputs": [
        {
          "output_type": "stream",
          "name": "stdout",
          "text": [
            "Looking in indexes: https://pypi.org/simple, https://us-python.pkg.dev/colab-wheels/public/simple/\n",
            "Collecting pyspark\n",
            "  Downloading pyspark-3.3.1.tar.gz (281.4 MB)\n",
            "\u001b[K     |████████████████████████████████| 281.4 MB 28 kB/s \n",
            "\u001b[?25hCollecting py4j\n",
            "  Downloading py4j-0.10.9.7-py2.py3-none-any.whl (200 kB)\n",
            "\u001b[K     |████████████████████████████████| 200 kB 44.4 MB/s \n",
            "\u001b[?25h  Downloading py4j-0.10.9.5-py2.py3-none-any.whl (199 kB)\n",
            "\u001b[K     |████████████████████████████████| 199 kB 52.7 MB/s \n",
            "\u001b[?25hBuilding wheels for collected packages: pyspark\n",
            "  Building wheel for pyspark (setup.py) ... \u001b[?25l\u001b[?25hdone\n",
            "  Created wheel for pyspark: filename=pyspark-3.3.1-py2.py3-none-any.whl size=281845512 sha256=8b3b415d2f3068744346041c250cd859f6e77b91d51fcbf9b2be32956070667f\n",
            "  Stored in directory: /root/.cache/pip/wheels/42/59/f5/79a5bf931714dcd201b26025347785f087370a10a3329a899c\n",
            "Successfully built pyspark\n",
            "Installing collected packages: py4j, pyspark\n",
            "Successfully installed py4j-0.10.9.5 pyspark-3.3.1\n"
          ]
        }
      ]
    },
    {
      "cell_type": "markdown",
      "source": [
        "**2. Silahkan Mengcreate Spark Session**"
      ],
      "metadata": {
        "id": "5eqbGQ06oZBg"
      }
    },
    {
      "cell_type": "code",
      "source": [
        "from pyspark.sql import SparkSession\n",
        "spark = SparkSession.builder.appName(\"big_data\").getOrCreate()\n",
        "spark"
      ],
      "metadata": {
        "id": "Rf2y4rb8oYp3",
        "colab": {
          "base_uri": "https://localhost:8080/",
          "height": 219
        },
        "outputId": "03029b7a-d9b5-48c0-869d-4171b5b2e79d"
      },
      "execution_count": null,
      "outputs": [
        {
          "output_type": "execute_result",
          "data": {
            "text/plain": [
              "<pyspark.sql.session.SparkSession at 0x7fb9cc964d50>"
            ],
            "text/html": [
              "\n",
              "            <div>\n",
              "                <p><b>SparkSession - in-memory</b></p>\n",
              "                \n",
              "        <div>\n",
              "            <p><b>SparkContext</b></p>\n",
              "\n",
              "            <p><a href=\"http://5156d8d6ab17:4040\">Spark UI</a></p>\n",
              "\n",
              "            <dl>\n",
              "              <dt>Version</dt>\n",
              "                <dd><code>v3.3.1</code></dd>\n",
              "              <dt>Master</dt>\n",
              "                <dd><code>local[*]</code></dd>\n",
              "              <dt>AppName</dt>\n",
              "                <dd><code>big_data</code></dd>\n",
              "            </dl>\n",
              "        </div>\n",
              "        \n",
              "            </div>\n",
              "        "
            ]
          },
          "metadata": {},
          "execution_count": 2
        }
      ]
    },
    {
      "cell_type": "markdown",
      "source": [
        "**3. Masukan data yang telah di download pada google drive**"
      ],
      "metadata": {
        "id": "_Jh8ywhwpCOR"
      }
    },
    {
      "cell_type": "code",
      "source": [
        "from google.colab import drive\n",
        "drive.mount('/content/drive')\n",
        "df = spark.read.csv('/content/drive/MyDrive/Dataset/mall.csv', header=True, inferSchema=True)\n",
        "df.show()"
      ],
      "metadata": {
        "id": "Gapyw1XuovZX",
        "colab": {
          "base_uri": "https://localhost:8080/"
        },
        "outputId": "22d326b2-e718-4fcb-c6fb-d7872a24c44b"
      },
      "execution_count": null,
      "outputs": [
        {
          "output_type": "stream",
          "name": "stdout",
          "text": [
            "Mounted at /content/drive\n",
            "+----------+------+---+------------------+----------------------+\n",
            "|CustomerID|Gender|Age|Annual Income (k$)|Spending Score (1-100)|\n",
            "+----------+------+---+------------------+----------------------+\n",
            "|         1|  Male| 19|                15|                    39|\n",
            "|         2|  Male| 21|                15|                    81|\n",
            "|         3|Female| 20|                16|                     6|\n",
            "|         4|Female| 23|                16|                    77|\n",
            "|         5|Female| 31|                17|                    40|\n",
            "|         6|Female| 22|                17|                    76|\n",
            "|         7|Female| 35|                18|                     6|\n",
            "|         8|Female| 23|                18|                    94|\n",
            "|         9|  Male| 64|                19|                     3|\n",
            "|        10|Female| 30|                19|                    72|\n",
            "|        11|  Male| 67|                19|                    14|\n",
            "|        12|Female| 35|                19|                    99|\n",
            "|        13|Female| 58|                20|                    15|\n",
            "|        14|Female| 24|                20|                    77|\n",
            "|        15|  Male| 37|                20|                    13|\n",
            "|        16|  Male| 22|                20|                    79|\n",
            "|        17|Female| 35|                21|                    35|\n",
            "|        18|  Male| 20|                21|                    66|\n",
            "|        19|  Male| 52|                23|                    29|\n",
            "|        20|Female| 35|                23|                    98|\n",
            "+----------+------+---+------------------+----------------------+\n",
            "only showing top 20 rows\n",
            "\n"
          ]
        }
      ]
    },
    {
      "cell_type": "markdown",
      "source": [
        "**4. Buat Perintah yang dapat menampilkan tipe data pada setiap kolom**"
      ],
      "metadata": {
        "id": "mX-e1aeepSpt"
      }
    },
    {
      "cell_type": "code",
      "source": [
        "df.printSchema()"
      ],
      "metadata": {
        "id": "GtOSZJkjpbhy",
        "colab": {
          "base_uri": "https://localhost:8080/"
        },
        "outputId": "c83bb552-eba7-4719-d4d6-2d688ee12cb5"
      },
      "execution_count": null,
      "outputs": [
        {
          "output_type": "stream",
          "name": "stdout",
          "text": [
            "root\n",
            " |-- CustomerID: integer (nullable = true)\n",
            " |-- Gender: string (nullable = true)\n",
            " |-- Age: integer (nullable = true)\n",
            " |-- Annual Income (k$): integer (nullable = true)\n",
            " |-- Spending Score (1-100): integer (nullable = true)\n",
            "\n"
          ]
        }
      ]
    },
    {
      "cell_type": "markdown",
      "source": [
        "**5. Buat perintah yang dapat menampilkan nama kolom, jumlah baris, dan jumlah kolom**"
      ],
      "metadata": {
        "id": "CTMXUWRipb-n"
      }
    },
    {
      "cell_type": "code",
      "source": [
        "#kolom\n",
        "df.columns"
      ],
      "metadata": {
        "id": "ZGQpqDVXppsG",
        "colab": {
          "base_uri": "https://localhost:8080/"
        },
        "outputId": "95e7b455-c669-4fa3-a5f6-3029eec9aba5"
      },
      "execution_count": null,
      "outputs": [
        {
          "output_type": "execute_result",
          "data": {
            "text/plain": [
              "['CustomerID', 'Gender', 'Age', 'Annual Income (k$)', 'Spending Score (1-100)']"
            ]
          },
          "metadata": {},
          "execution_count": 17
        }
      ]
    },
    {
      "cell_type": "code",
      "source": [
        "#baris\n",
        "df.count()"
      ],
      "metadata": {
        "id": "f3CcglpBc9Df",
        "outputId": "508a19db-5bdb-47ef-ff73-84cbc6a14e5b",
        "colab": {
          "base_uri": "https://localhost:8080/"
        }
      },
      "execution_count": null,
      "outputs": [
        {
          "output_type": "execute_result",
          "data": {
            "text/plain": [
              "200"
            ]
          },
          "metadata": {},
          "execution_count": 18
        }
      ]
    },
    {
      "cell_type": "code",
      "source": [
        "#jumlah kolom\n",
        "len(df.columns)"
      ],
      "metadata": {
        "id": "0o0g7PSGc9Y5",
        "outputId": "57bc2a66-a1a4-46af-bbaa-77be4007c741",
        "colab": {
          "base_uri": "https://localhost:8080/"
        }
      },
      "execution_count": null,
      "outputs": [
        {
          "output_type": "execute_result",
          "data": {
            "text/plain": [
              "5"
            ]
          },
          "metadata": {},
          "execution_count": 19
        }
      ]
    },
    {
      "cell_type": "markdown",
      "source": [
        "**6. Buat perintah yang dapat menampilkan statistik data pada setiap kolom**"
      ],
      "metadata": {
        "id": "lXK4vu7iplVY"
      }
    },
    {
      "cell_type": "code",
      "source": [
        "df.describe().show()"
      ],
      "metadata": {
        "id": "iIsEnLUPp0Cu",
        "colab": {
          "base_uri": "https://localhost:8080/"
        },
        "outputId": "6781ef7a-6fc5-4473-d220-583cefb21719"
      },
      "execution_count": null,
      "outputs": [
        {
          "output_type": "stream",
          "name": "stdout",
          "text": [
            "+-------+------------------+------+-----------------+------------------+----------------------+\n",
            "|summary|        CustomerID|Gender|              Age|Annual Income (k$)|Spending Score (1-100)|\n",
            "+-------+------------------+------+-----------------+------------------+----------------------+\n",
            "|  count|               200|   200|              200|               200|                   200|\n",
            "|   mean|             100.5|  null|            38.85|             60.56|                  50.2|\n",
            "| stddev|57.879184513951124|  null|13.96900733155888| 26.26472116527124|    25.823521668370173|\n",
            "|    min|                 1|Female|               18|                15|                     1|\n",
            "|    max|               200|  Male|               70|               137|                    99|\n",
            "+-------+------------------+------+-----------------+------------------+----------------------+\n",
            "\n"
          ]
        }
      ]
    },
    {
      "cell_type": "markdown",
      "source": [
        "**7. Buat perintah yang dapat menampilkan 2 kolom**"
      ],
      "metadata": {
        "id": "DdlxMKhpp0od"
      }
    },
    {
      "cell_type": "code",
      "source": [
        "df.select('CustomerID', 'Gender').show()"
      ],
      "metadata": {
        "id": "2KVe_kEzp_m9",
        "colab": {
          "base_uri": "https://localhost:8080/"
        },
        "outputId": "882adaa8-165c-4938-9c90-1e99114ff441"
      },
      "execution_count": null,
      "outputs": [
        {
          "output_type": "stream",
          "name": "stdout",
          "text": [
            "+----------+------+\n",
            "|CustomerID|Gender|\n",
            "+----------+------+\n",
            "|         1|  Male|\n",
            "|         2|  Male|\n",
            "|         3|Female|\n",
            "|         4|Female|\n",
            "|         5|Female|\n",
            "|         6|Female|\n",
            "|         7|Female|\n",
            "|         8|Female|\n",
            "|         9|  Male|\n",
            "|        10|Female|\n",
            "|        11|  Male|\n",
            "|        12|Female|\n",
            "|        13|Female|\n",
            "|        14|Female|\n",
            "|        15|  Male|\n",
            "|        16|  Male|\n",
            "|        17|Female|\n",
            "|        18|  Male|\n",
            "|        19|  Male|\n",
            "|        20|Female|\n",
            "+----------+------+\n",
            "only showing top 20 rows\n",
            "\n"
          ]
        }
      ]
    },
    {
      "cell_type": "markdown",
      "source": [
        "**8. Buat perintah yang dapat membuat kolom baru dengan menambahkan value pada nilai tabel**"
      ],
      "metadata": {
        "id": "LkK0pTbjqACN"
      }
    },
    {
      "cell_type": "code",
      "source": [
        "bonus_income=5\n",
        "df.withColumn('TotalIncome', df['Annual Income (k$)'] + bonus_income).show()"
      ],
      "metadata": {
        "id": "PiM4BvSQqMh2",
        "colab": {
          "base_uri": "https://localhost:8080/"
        },
        "outputId": "b73e48c9-243f-4330-976a-5ec7eb994819"
      },
      "execution_count": null,
      "outputs": [
        {
          "output_type": "stream",
          "name": "stdout",
          "text": [
            "+----------+------+---+------------------+----------------------+-----------+\n",
            "|CustomerID|Gender|Age|Annual Income (k$)|Spending Score (1-100)|TotalIncome|\n",
            "+----------+------+---+------------------+----------------------+-----------+\n",
            "|         1|  Male| 19|                15|                    39|         20|\n",
            "|         2|  Male| 21|                15|                    81|         20|\n",
            "|         3|Female| 20|                16|                     6|         21|\n",
            "|         4|Female| 23|                16|                    77|         21|\n",
            "|         5|Female| 31|                17|                    40|         22|\n",
            "|         6|Female| 22|                17|                    76|         22|\n",
            "|         7|Female| 35|                18|                     6|         23|\n",
            "|         8|Female| 23|                18|                    94|         23|\n",
            "|         9|  Male| 64|                19|                     3|         24|\n",
            "|        10|Female| 30|                19|                    72|         24|\n",
            "|        11|  Male| 67|                19|                    14|         24|\n",
            "|        12|Female| 35|                19|                    99|         24|\n",
            "|        13|Female| 58|                20|                    15|         25|\n",
            "|        14|Female| 24|                20|                    77|         25|\n",
            "|        15|  Male| 37|                20|                    13|         25|\n",
            "|        16|  Male| 22|                20|                    79|         25|\n",
            "|        17|Female| 35|                21|                    35|         26|\n",
            "|        18|  Male| 20|                21|                    66|         26|\n",
            "|        19|  Male| 52|                23|                    29|         28|\n",
            "|        20|Female| 35|                23|                    98|         28|\n",
            "+----------+------+---+------------------+----------------------+-----------+\n",
            "only showing top 20 rows\n",
            "\n"
          ]
        }
      ]
    },
    {
      "cell_type": "markdown",
      "source": [
        "**9. Buat perintah yang dapat melakukan perubahan pada nama kolom**"
      ],
      "metadata": {
        "id": "WhZ1ydvyqM4G"
      }
    },
    {
      "cell_type": "code",
      "source": [
        "from pyspark.sql.functions import *"
      ],
      "metadata": {
        "id": "qir29j-DaypH"
      },
      "execution_count": null,
      "outputs": []
    },
    {
      "cell_type": "code",
      "source": [
        "df.withColumnRenamed('TotalIncome', 'Total Income (k$)').show()"
      ],
      "metadata": {
        "id": "yMRgTMkhqcTH",
        "colab": {
          "base_uri": "https://localhost:8080/"
        },
        "outputId": "e5d6a327-888f-497b-b186-42b5ae046eee"
      },
      "execution_count": null,
      "outputs": [
        {
          "output_type": "stream",
          "name": "stdout",
          "text": [
            "+----------+------+---+------------------+----------------------+\n",
            "|CustomerID|Gender|Age|Annual Income (k$)|Spending Score (1-100)|\n",
            "+----------+------+---+------------------+----------------------+\n",
            "|         1|  Male| 19|                15|                    39|\n",
            "|         2|  Male| 21|                15|                    81|\n",
            "|         3|Female| 20|                16|                     6|\n",
            "|         4|Female| 23|                16|                    77|\n",
            "|         5|Female| 31|                17|                    40|\n",
            "|         6|Female| 22|                17|                    76|\n",
            "|         7|Female| 35|                18|                     6|\n",
            "|         8|Female| 23|                18|                    94|\n",
            "|         9|  Male| 64|                19|                     3|\n",
            "|        10|Female| 30|                19|                    72|\n",
            "|        11|  Male| 67|                19|                    14|\n",
            "|        12|Female| 35|                19|                    99|\n",
            "|        13|Female| 58|                20|                    15|\n",
            "|        14|Female| 24|                20|                    77|\n",
            "|        15|  Male| 37|                20|                    13|\n",
            "|        16|  Male| 22|                20|                    79|\n",
            "|        17|Female| 35|                21|                    35|\n",
            "|        18|  Male| 20|                21|                    66|\n",
            "|        19|  Male| 52|                23|                    29|\n",
            "|        20|Female| 35|                23|                    98|\n",
            "+----------+------+---+------------------+----------------------+\n",
            "only showing top 20 rows\n",
            "\n"
          ]
        }
      ]
    },
    {
      "cell_type": "markdown",
      "source": [
        "**10. Buat Perintah yang dapat melakukan filter data pada salah satu kolom**"
      ],
      "metadata": {
        "id": "zqNPg3KQqi4N"
      }
    },
    {
      "cell_type": "code",
      "source": [
        "df.filter(df['Age'] > 30).show()"
      ],
      "metadata": {
        "id": "yCcxP2TcqsC1",
        "colab": {
          "base_uri": "https://localhost:8080/"
        },
        "outputId": "ceb18379-d639-4fa2-9155-94ab0adc22f0"
      },
      "execution_count": null,
      "outputs": [
        {
          "output_type": "stream",
          "name": "stdout",
          "text": [
            "+----------+------+---+------------------+----------------------+\n",
            "|CustomerID|Gender|Age|Annual Income (k$)|Spending Score (1-100)|\n",
            "+----------+------+---+------------------+----------------------+\n",
            "|         5|Female| 31|                17|                    40|\n",
            "|         7|Female| 35|                18|                     6|\n",
            "|         9|  Male| 64|                19|                     3|\n",
            "|        11|  Male| 67|                19|                    14|\n",
            "|        12|Female| 35|                19|                    99|\n",
            "|        13|Female| 58|                20|                    15|\n",
            "|        15|  Male| 37|                20|                    13|\n",
            "|        17|Female| 35|                21|                    35|\n",
            "|        19|  Male| 52|                23|                    29|\n",
            "|        20|Female| 35|                23|                    98|\n",
            "|        21|  Male| 35|                24|                    35|\n",
            "|        23|Female| 46|                25|                     5|\n",
            "|        24|  Male| 31|                25|                    73|\n",
            "|        25|Female| 54|                28|                    14|\n",
            "|        27|Female| 45|                28|                    32|\n",
            "|        28|  Male| 35|                28|                    61|\n",
            "|        29|Female| 40|                29|                    31|\n",
            "|        31|  Male| 60|                30|                     4|\n",
            "|        33|  Male| 53|                33|                     4|\n",
            "|        35|Female| 49|                33|                    14|\n",
            "+----------+------+---+------------------+----------------------+\n",
            "only showing top 20 rows\n",
            "\n"
          ]
        }
      ]
    },
    {
      "cell_type": "markdown",
      "source": [
        "**11. Silahkan lakukan penampahan nilai data jika terdapat data kosong pada dataframe**"
      ],
      "metadata": {
        "id": "nhaDlPl4rBi_"
      }
    },
    {
      "cell_type": "code",
      "source": [
        "df.select([count(when(isnan(c), c)).alias(c) for c in df.columns]).show()"
      ],
      "metadata": {
        "id": "UY5BTeWNrLwu",
        "colab": {
          "base_uri": "https://localhost:8080/"
        },
        "outputId": "4aa462bc-d703-4105-e545-904bfb180048"
      },
      "execution_count": null,
      "outputs": [
        {
          "output_type": "stream",
          "name": "stdout",
          "text": [
            "+----------+------+---+------------------+----------------------+\n",
            "|CustomerID|Gender|Age|Annual Income (k$)|Spending Score (1-100)|\n",
            "+----------+------+---+------------------+----------------------+\n",
            "|         0|     0|  0|                 0|                     0|\n",
            "+----------+------+---+------------------+----------------------+\n",
            "\n"
          ]
        }
      ]
    },
    {
      "cell_type": "markdown",
      "source": [
        "**12. Silahkan lakukan visualisasi data untuk salah satu kolom**"
      ],
      "metadata": {
        "id": "HbrL5tYIq1og"
      }
    },
    {
      "cell_type": "code",
      "source": [
        "import seaborn as sns\n",
        "import matplotlib.pyplot as plt\n",
        "plt.figure(1, figsize=(14,7))\n",
        "sns.countplot(x='Age', data=df.toPandas())\n",
        "plt.show()"
      ],
      "metadata": {
        "id": "frjdKQ_-q-tV",
        "colab": {
          "base_uri": "https://localhost:8080/",
          "height": 442
        },
        "outputId": "422689ad-b4be-427b-beae-dd9ec2612028"
      },
      "execution_count": null,
      "outputs": [
        {
          "output_type": "display_data",
          "data": {
            "text/plain": [
              "<Figure size 1008x504 with 1 Axes>"
            ],
            "image/png": "[encoded data removed]"
          },
          "metadata": {
            "needs_background": "light"
          }
        }
      ]
    }
  ]
}